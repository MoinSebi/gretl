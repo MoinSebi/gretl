{
 "cells": [
  {
   "cell_type": "code",
   "execution_count": 1,
   "id": "2f95c814",
   "metadata": {},
   "outputs": [],
   "source": [
    "\n",
    "import pandas as pd\n",
    "import matplotlib.pyplot as plt\n",
    "import seaborn as sns\n",
    "import numpy as np\n",
    "%matplotlib inline"
   ]
  },
  {
   "cell_type": "code",
   "execution_count": 2,
   "id": "9a907ff8",
   "metadata": {},
   "outputs": [],
   "source": [
    "f = \"../data/test/yeast/analysis/analysis.yeast.core.pansn.sim.txt\""
   ]
  },
  {
   "cell_type": "code",
   "execution_count": 3,
   "id": "629c943a",
   "metadata": {},
   "outputs": [],
   "source": [
    "df = pd.read_csv(f, sep = \"\\t\", index_col = 0)"
   ]
  },
  {
   "cell_type": "code",
   "execution_count": 4,
   "id": "da275f01",
   "metadata": {},
   "outputs": [
    {
     "data": {
      "text/plain": "            Sequence[bp]  #Node\nFeature                        \nABQ_6.ChrX         47050    336\nBIH_4.ChrX         26389    278\nABF_6.ChrX         33120   2181\nBPN_2.ChrX        104353   1250\nBCK_8.ChrX         53334   3275\n0                      0      0\n1                 264241   7315\n2                  10804   2191\n3                  13800   2240\n4                  73893   6833\n5                 597805   7655",
      "text/html": "<div>\n<style scoped>\n    .dataframe tbody tr th:only-of-type {\n        vertical-align: middle;\n    }\n\n    .dataframe tbody tr th {\n        vertical-align: top;\n    }\n\n    .dataframe thead th {\n        text-align: right;\n    }\n</style>\n<table border=\"1\" class=\"dataframe\">\n  <thead>\n    <tr style=\"text-align: right;\">\n      <th></th>\n      <th>Sequence[bp]</th>\n      <th>#Node</th>\n    </tr>\n    <tr>\n      <th>Feature</th>\n      <th></th>\n      <th></th>\n    </tr>\n  </thead>\n  <tbody>\n    <tr>\n      <th>ABQ_6.ChrX</th>\n      <td>47050</td>\n      <td>336</td>\n    </tr>\n    <tr>\n      <th>BIH_4.ChrX</th>\n      <td>26389</td>\n      <td>278</td>\n    </tr>\n    <tr>\n      <th>ABF_6.ChrX</th>\n      <td>33120</td>\n      <td>2181</td>\n    </tr>\n    <tr>\n      <th>BPN_2.ChrX</th>\n      <td>104353</td>\n      <td>1250</td>\n    </tr>\n    <tr>\n      <th>BCK_8.ChrX</th>\n      <td>53334</td>\n      <td>3275</td>\n    </tr>\n    <tr>\n      <th>0</th>\n      <td>0</td>\n      <td>0</td>\n    </tr>\n    <tr>\n      <th>1</th>\n      <td>264241</td>\n      <td>7315</td>\n    </tr>\n    <tr>\n      <th>2</th>\n      <td>10804</td>\n      <td>2191</td>\n    </tr>\n    <tr>\n      <th>3</th>\n      <td>13800</td>\n      <td>2240</td>\n    </tr>\n    <tr>\n      <th>4</th>\n      <td>73893</td>\n      <td>6833</td>\n    </tr>\n    <tr>\n      <th>5</th>\n      <td>597805</td>\n      <td>7655</td>\n    </tr>\n  </tbody>\n</table>\n</div>"
     },
     "execution_count": 4,
     "metadata": {},
     "output_type": "execute_result"
    }
   ],
   "source": [
    "df"
   ]
  },
  {
   "cell_type": "code",
   "execution_count": 5,
   "id": "7e26262e",
   "metadata": {},
   "outputs": [
    {
     "data": {
      "text/plain": "6"
     },
     "execution_count": 5,
     "metadata": {},
     "output_type": "execute_result"
    }
   ],
   "source": [
    "split_index = [i for i, x in enumerate(df.index) if x == \"1\"][0]\n",
    "split_index"
   ]
  },
  {
   "cell_type": "code",
   "execution_count": 6,
   "id": "f127dd9b",
   "metadata": {},
   "outputs": [
    {
     "data": {
      "text/plain": "         Sequence[bp]  #Node\nFeature                     \n2               10804   2191\n3               13800   2240\n4               73893   6833\n5              597805   7655",
      "text/html": "<div>\n<style scoped>\n    .dataframe tbody tr th:only-of-type {\n        vertical-align: middle;\n    }\n\n    .dataframe tbody tr th {\n        vertical-align: top;\n    }\n\n    .dataframe thead th {\n        text-align: right;\n    }\n</style>\n<table border=\"1\" class=\"dataframe\">\n  <thead>\n    <tr style=\"text-align: right;\">\n      <th></th>\n      <th>Sequence[bp]</th>\n      <th>#Node</th>\n    </tr>\n    <tr>\n      <th>Feature</th>\n      <th></th>\n      <th></th>\n    </tr>\n  </thead>\n  <tbody>\n    <tr>\n      <th>2</th>\n      <td>10804</td>\n      <td>2191</td>\n    </tr>\n    <tr>\n      <th>3</th>\n      <td>13800</td>\n      <td>2240</td>\n    </tr>\n    <tr>\n      <th>4</th>\n      <td>73893</td>\n      <td>6833</td>\n    </tr>\n    <tr>\n      <th>5</th>\n      <td>597805</td>\n      <td>7655</td>\n    </tr>\n  </tbody>\n</table>\n</div>"
     },
     "execution_count": 6,
     "metadata": {},
     "output_type": "execute_result"
    }
   ],
   "source": [
    "df_seq = df.iloc[split_index+1:, :]\n",
    "df_seq"
   ]
  },
  {
   "cell_type": "code",
   "execution_count": 7,
   "id": "975a07bf",
   "metadata": {},
   "outputs": [
    {
     "data": {
      "text/plain": "            Sequence[bp]  #Node\nFeature                        \nBIH_4.ChrX         26389    278\nABF_6.ChrX         33120   2181\nABQ_6.ChrX         47050    336\nBCK_8.ChrX         53334   3275\nBPN_2.ChrX        104353   1250",
      "text/html": "<div>\n<style scoped>\n    .dataframe tbody tr th:only-of-type {\n        vertical-align: middle;\n    }\n\n    .dataframe tbody tr th {\n        vertical-align: top;\n    }\n\n    .dataframe thead th {\n        text-align: right;\n    }\n</style>\n<table border=\"1\" class=\"dataframe\">\n  <thead>\n    <tr style=\"text-align: right;\">\n      <th></th>\n      <th>Sequence[bp]</th>\n      <th>#Node</th>\n    </tr>\n    <tr>\n      <th>Feature</th>\n      <th></th>\n      <th></th>\n    </tr>\n  </thead>\n  <tbody>\n    <tr>\n      <th>BIH_4.ChrX</th>\n      <td>26389</td>\n      <td>278</td>\n    </tr>\n    <tr>\n      <th>ABF_6.ChrX</th>\n      <td>33120</td>\n      <td>2181</td>\n    </tr>\n    <tr>\n      <th>ABQ_6.ChrX</th>\n      <td>47050</td>\n      <td>336</td>\n    </tr>\n    <tr>\n      <th>BCK_8.ChrX</th>\n      <td>53334</td>\n      <td>3275</td>\n    </tr>\n    <tr>\n      <th>BPN_2.ChrX</th>\n      <td>104353</td>\n      <td>1250</td>\n    </tr>\n  </tbody>\n</table>\n</div>"
     },
     "execution_count": 7,
     "metadata": {},
     "output_type": "execute_result"
    }
   ],
   "source": [
    "df_seq2 = df.iloc[:split_index-1, :]\n",
    "df_seq2 = df_seq2.sort_values(\"Sequence[bp]\")\n",
    "df_seq2"
   ]
  },
  {
   "cell_type": "code",
   "execution_count": 11,
   "id": "96cfee54",
   "metadata": {},
   "outputs": [
    {
     "name": "stderr",
     "output_type": "stream",
     "text": [
      "/tmp/ipykernel_163622/1290980895.py:2: FutureWarning: Series.__getitem__ treating keys as positions is deprecated. In a future version, integer keys will always be treated as labels (consistent with DataFrame behavior). To access a value by position, use `ser.iloc[pos]`\n",
      "  plt.bar([int(x) for x in df_seq.index][-1], df_seq[\"Sequence[bp]\"][-1], edgecolor = \"black\")\n"
     ]
    },
    {
     "data": {
      "text/plain": "Text(0.5, 0, 'Similarity (Number of samples)')"
     },
     "execution_count": 11,
     "metadata": {},
     "output_type": "execute_result"
    },
    {
     "data": {
      "text/plain": "<Figure size 640x480 with 1 Axes>",
      "image/png": "[encoded data removed]"
     },
     "metadata": {},
     "output_type": "display_data"
    }
   ],
   "source": [
    "plt.bar([int(x) for x in df_seq.index], df_seq[\"Sequence[bp]\"], edgecolor = \"black\")\n",
    "plt.bar([int(x) for x in df_seq.index][-1], df_seq[\"Sequence[bp]\"][-1], edgecolor = \"black\")\n",
    "\n",
    "bottom1 = 0\n",
    "for x in df_seq2.iterrows():\n",
    "    plt.bar(1, (x[1][\"Sequence[bp]\"]), color = \"yellow\", bottom = bottom1, edgecolor = \"black\")\n",
    "    bottom1 += int(x[1][\"Sequence[bp]\"])\n",
    "plt.ylabel(\"Sequence [bp]\")\n",
    "plt.xlabel(\"Similarity (Number of samples)\")\n",
    "#plt.savefig(\"plots/pancore.pdf\")"
   ]
  },
  {
   "cell_type": "code",
   "execution_count": 27,
   "id": "1a2846b8",
   "metadata": {},
   "outputs": [],
   "source": [
    "new_rc_params = {'text.usetex': False,\n",
    "\"svg.fonttype\": 'none'\n",
    "}\n",
    "\n",
    "plt.rcParams.update(new_rc_params)\n",
    "import matplotlib as mpl\n",
    "mpl.rcParams['axes.spines.right'] = False\n",
    "mpl.rcParams['axes.spines.top'] = False"
   ]
  },
  {
   "cell_type": "code",
   "execution_count": 28,
   "id": "3e9cf31b",
   "metadata": {},
   "outputs": [
    {
     "data": {
      "text/plain": "Feature\n2     10.804\n3     13.800\n4     73.893\n5    597.805\nName: Sequence[bp], dtype: float64"
     },
     "execution_count": 28,
     "metadata": {},
     "output_type": "execute_result"
    }
   ],
   "source": [
    "df_seq[\"Sequence[bp]\"]/1000"
   ]
  },
  {
   "cell_type": "code",
   "execution_count": 29,
   "id": "531486e7",
   "metadata": {},
   "outputs": [
    {
     "name": "stderr",
     "output_type": "stream",
     "text": [
      "/tmp/ipykernel_98255/4164575570.py:4: FutureWarning: Series.__getitem__ treating keys as positions is deprecated. In a future version, integer keys will always be treated as labels (consistent with DataFrame behavior). To access a value by position, use `ser.iloc[pos]`\n",
      "  plt.bar([int(x) for x in df_seq.index][-1], df_seq[\"Sequence[bp]\"][-1]/1000, edgecolor = \"black\")\n"
     ]
    },
    {
     "data": {
      "text/plain": "Text(0.5, 0, 'Similarity')"
     },
     "execution_count": 29,
     "metadata": {},
     "output_type": "execute_result"
    },
    {
     "data": {
      "text/plain": "<Figure size 500x500 with 1 Axes>",
      "image/png": "[encoded data removed]"
     },
     "metadata": {},
     "output_type": "display_data"
    }
   ],
   "source": [
    "plt.figure(figsize=(5,5))\n",
    "\n",
    "plt.bar([int(x) for x in df_seq.index], df_seq[\"Sequence[bp]\"]/1000, edgecolor = \"black\")\n",
    "plt.bar([int(x) for x in df_seq.index][-1], df_seq[\"Sequence[bp]\"][-1]/1000, edgecolor = \"black\")\n",
    "\n",
    "bottom1 = 0\n",
    "for x in df_seq2.iterrows():\n",
    "    plt.bar(1, (x[1][\"Sequence[bp]\"])/1000, color = \"yellow\", bottom = bottom1, edgecolor = \"black\")\n",
    "    bottom1 += int(x[1][\"Sequence[bp]\"])/1000\n",
    "plt.ylabel(\"Sequence [kbp]\")\n",
    "plt.xlabel(\"Similarity\")\n",
    "#plt.xticks(np.arange(min(x), max(x)+1, 1.0))\n",
    "#plt.savefig(\"plots/pancore.png\", dpi = 400)\n",
    "#plt.savefig(\"plots/pancore.pdf\")"
   ]
  },
  {
   "cell_type": "code",
   "execution_count": null,
   "id": "f27024f5",
   "metadata": {},
   "outputs": [],
   "source": []
  },
  {
   "cell_type": "code",
   "execution_count": null,
   "id": "45b06efb",
   "metadata": {},
   "outputs": [],
   "source": []
  },
  {
   "cell_type": "code",
   "execution_count": null,
   "id": "69b98631",
   "metadata": {},
   "outputs": [],
   "source": []
  }
 ],
 "metadata": {
  "kernelspec": {
   "display_name": "Python 3",
   "language": "python",
   "name": "python3"
  },
  "language_info": {
   "codemirror_mode": {
    "name": "ipython",
    "version": 3
   },
   "file_extension": ".py",
   "mimetype": "text/x-python",
   "name": "python",
   "nbconvert_exporter": "python",
   "pygments_lexer": "ipython3",
   "version": "3.7.3"
  }
 },
 "nbformat": 4,
 "nbformat_minor": 5
}
