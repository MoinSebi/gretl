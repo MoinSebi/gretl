{
 "cells": [
  {
   "cell_type": "code",
   "execution_count": 1,
   "id": "47d86794",
   "metadata": {},
   "outputs": [],
   "source": [
    "\n",
    "import pandas as pd\n",
    "import matplotlib.pyplot as plt\n",
    "import seaborn as sns\n",
    "import numpy as np\n",
    "%matplotlib inline"
   ]
  },
  {
   "cell_type": "code",
   "execution_count": 2,
   "id": "05ed2a1b",
   "metadata": {},
   "outputs": [],
   "source": [
    "# Data is here\n",
    "f = \"../data/test/yeast/analysis/ps.txt\"\n",
    "fpath = \"/\".join(f.split(\"/\")[:-1])"
   ]
  },
  {
   "cell_type": "code",
   "execution_count": 3,
   "id": "7409ddb5",
   "metadata": {},
   "outputs": [
    {
     "data": {
      "text/plain": "    Accession  Node:0  Node:1  Node:2  Node:3  Node:4   Seq:0  Seq:1  Seq:2  \\\n0  ABQ_6.ChrX     336     891    1785    6630    7655   47050   3792  12833   \n1  BIH_4.ChrX     278     764    1753    6592    7655   26389   2445  12195   \n2  ABF_6.ChrX    2180    1092    1204    5213    7655   33119   5968  12122   \n3  BPN_2.ChrX    1246     687     916    5163    7655  104349   5349   1650   \n4  BCK_8.ChrX    3275     948    1062    3734    7655   53334   4054   2600   \n\n   Seq:3   Seq:4  \n0  73540  597805  \n1  73030  597805  \n2  71557  597805  \n3   9887  597805  \n4  67558  597805  ",
      "text/html": "<div>\n<style scoped>\n    .dataframe tbody tr th:only-of-type {\n        vertical-align: middle;\n    }\n\n    .dataframe tbody tr th {\n        vertical-align: top;\n    }\n\n    .dataframe thead th {\n        text-align: right;\n    }\n</style>\n<table border=\"1\" class=\"dataframe\">\n  <thead>\n    <tr style=\"text-align: right;\">\n      <th></th>\n      <th>Accession</th>\n      <th>Node:0</th>\n      <th>Node:1</th>\n      <th>Node:2</th>\n      <th>Node:3</th>\n      <th>Node:4</th>\n      <th>Seq:0</th>\n      <th>Seq:1</th>\n      <th>Seq:2</th>\n      <th>Seq:3</th>\n      <th>Seq:4</th>\n    </tr>\n  </thead>\n  <tbody>\n    <tr>\n      <th>0</th>\n      <td>ABQ_6.ChrX</td>\n      <td>336</td>\n      <td>891</td>\n      <td>1785</td>\n      <td>6630</td>\n      <td>7655</td>\n      <td>47050</td>\n      <td>3792</td>\n      <td>12833</td>\n      <td>73540</td>\n      <td>597805</td>\n    </tr>\n    <tr>\n      <th>1</th>\n      <td>BIH_4.ChrX</td>\n      <td>278</td>\n      <td>764</td>\n      <td>1753</td>\n      <td>6592</td>\n      <td>7655</td>\n      <td>26389</td>\n      <td>2445</td>\n      <td>12195</td>\n      <td>73030</td>\n      <td>597805</td>\n    </tr>\n    <tr>\n      <th>2</th>\n      <td>ABF_6.ChrX</td>\n      <td>2180</td>\n      <td>1092</td>\n      <td>1204</td>\n      <td>5213</td>\n      <td>7655</td>\n      <td>33119</td>\n      <td>5968</td>\n      <td>12122</td>\n      <td>71557</td>\n      <td>597805</td>\n    </tr>\n    <tr>\n      <th>3</th>\n      <td>BPN_2.ChrX</td>\n      <td>1246</td>\n      <td>687</td>\n      <td>916</td>\n      <td>5163</td>\n      <td>7655</td>\n      <td>104349</td>\n      <td>5349</td>\n      <td>1650</td>\n      <td>9887</td>\n      <td>597805</td>\n    </tr>\n    <tr>\n      <th>4</th>\n      <td>BCK_8.ChrX</td>\n      <td>3275</td>\n      <td>948</td>\n      <td>1062</td>\n      <td>3734</td>\n      <td>7655</td>\n      <td>53334</td>\n      <td>4054</td>\n      <td>2600</td>\n      <td>67558</td>\n      <td>597805</td>\n    </tr>\n  </tbody>\n</table>\n</div>"
     },
     "execution_count": 3,
     "metadata": {},
     "output_type": "execute_result"
    }
   ],
   "source": [
    "# Read in file\n",
    "df = pd.read_csv(f, sep = \"\\t\")\n",
    "df.head()"
   ]
  },
  {
   "cell_type": "code",
   "execution_count": 4,
   "id": "c0134980",
   "metadata": {},
   "outputs": [
    {
     "data": {
      "text/plain": "6"
     },
     "execution_count": 4,
     "metadata": {},
     "output_type": "execute_result"
    }
   ],
   "source": [
    "# Sequence starts here\n",
    "seq_index = [i for i, x in enumerate(list(df.columns)) if x.startswith(\"Seq\")][0]\n",
    "seq_index"
   ]
  },
  {
   "cell_type": "code",
   "execution_count": 5,
   "id": "84cd88d1",
   "metadata": {},
   "outputs": [
    {
     "data": {
      "text/plain": "2"
     },
     "execution_count": 5,
     "metadata": {},
     "output_type": "execute_result"
    }
   ],
   "source": [
    "# Data starts here\n",
    "start_index = [i for i, x in enumerate(list(df.columns)) if x.startswith(\"Node\")][0]+1\n",
    "start_index"
   ]
  },
  {
   "cell_type": "code",
   "execution_count": 6,
   "id": "80b52f56",
   "metadata": {},
   "outputs": [],
   "source": [
    "# Node stats\n",
    "node_soft = df.apply(lambda x: sum([x for x in x.iloc[start_index:seq_index].values if not np.isnan(x)][1:-1]), axis = 1)\n",
    "node_core = df.apply(lambda x: [x for x in x.iloc[start_index:seq_index].values if not np.isnan(x)][-1], axis = 1)\n",
    "node_priv = df.apply(lambda x: [x for x in x.iloc[start_index:seq_index].values if not np.isnan(x)][0], axis = 1)\n",
    "node_pan = df.apply(lambda x: sum([x for x in x.iloc[start_index:seq_index].values if not np.isnan(x)][:]), axis = 1)"
   ]
  },
  {
   "cell_type": "code",
   "execution_count": 7,
   "id": "bc59455e",
   "metadata": {},
   "outputs": [
    {
     "data": {
      "text/plain": "      0     1     2\n0  7655  8415   891\n1  7655  8345   764\n2  7655  6417  1092\n3  7655  6079   687\n4  7655  4796   948",
      "text/html": "<div>\n<style scoped>\n    .dataframe tbody tr th:only-of-type {\n        vertical-align: middle;\n    }\n\n    .dataframe tbody tr th {\n        vertical-align: top;\n    }\n\n    .dataframe thead th {\n        text-align: right;\n    }\n</style>\n<table border=\"1\" class=\"dataframe\">\n  <thead>\n    <tr style=\"text-align: right;\">\n      <th></th>\n      <th>0</th>\n      <th>1</th>\n      <th>2</th>\n    </tr>\n  </thead>\n  <tbody>\n    <tr>\n      <th>0</th>\n      <td>7655</td>\n      <td>8415</td>\n      <td>891</td>\n    </tr>\n    <tr>\n      <th>1</th>\n      <td>7655</td>\n      <td>8345</td>\n      <td>764</td>\n    </tr>\n    <tr>\n      <th>2</th>\n      <td>7655</td>\n      <td>6417</td>\n      <td>1092</td>\n    </tr>\n    <tr>\n      <th>3</th>\n      <td>7655</td>\n      <td>6079</td>\n      <td>687</td>\n    </tr>\n    <tr>\n      <th>4</th>\n      <td>7655</td>\n      <td>4796</td>\n      <td>948</td>\n    </tr>\n  </tbody>\n</table>\n</div>"
     },
     "execution_count": 7,
     "metadata": {},
     "output_type": "execute_result"
    }
   ],
   "source": [
    "df2 = pd.DataFrame([node_core, node_soft, node_priv]).T\n",
    "df2.head()"
   ]
  },
  {
   "cell_type": "code",
   "execution_count": 8,
   "id": "7b37e36d",
   "metadata": {},
   "outputs": [
    {
     "data": {
      "text/plain": "     Core  Soft  Private\nABQ  7655  8415      891\nBIH  7655  8345      764\nABF  7655  6417     1092\nBPN  7655  6079      687\nBCK  7655  4796      948",
      "text/html": "<div>\n<style scoped>\n    .dataframe tbody tr th:only-of-type {\n        vertical-align: middle;\n    }\n\n    .dataframe tbody tr th {\n        vertical-align: top;\n    }\n\n    .dataframe thead th {\n        text-align: right;\n    }\n</style>\n<table border=\"1\" class=\"dataframe\">\n  <thead>\n    <tr style=\"text-align: right;\">\n      <th></th>\n      <th>Core</th>\n      <th>Soft</th>\n      <th>Private</th>\n    </tr>\n  </thead>\n  <tbody>\n    <tr>\n      <th>ABQ</th>\n      <td>7655</td>\n      <td>8415</td>\n      <td>891</td>\n    </tr>\n    <tr>\n      <th>BIH</th>\n      <td>7655</td>\n      <td>8345</td>\n      <td>764</td>\n    </tr>\n    <tr>\n      <th>ABF</th>\n      <td>7655</td>\n      <td>6417</td>\n      <td>1092</td>\n    </tr>\n    <tr>\n      <th>BPN</th>\n      <td>7655</td>\n      <td>6079</td>\n      <td>687</td>\n    </tr>\n    <tr>\n      <th>BCK</th>\n      <td>7655</td>\n      <td>4796</td>\n      <td>948</td>\n    </tr>\n  </tbody>\n</table>\n</div>"
     },
     "execution_count": 8,
     "metadata": {},
     "output_type": "execute_result"
    }
   ],
   "source": [
    "# Change index and column name\n",
    "df2.columns = [\"Core\", \"Soft\", \"Private\"]\n",
    "df2.index = [x.split(\"_\")[0] for x in df[\"Accession\"]]\n",
    "df2.head()"
   ]
  },
  {
   "cell_type": "code",
   "execution_count": 9,
   "id": "323e9fb3",
   "metadata": {},
   "outputs": [],
   "source": [
    "df2.index = [x.split(\"#\")[0] for x in df2.index]"
   ]
  },
  {
   "cell_type": "code",
   "execution_count": 11,
   "id": "621a93e3",
   "metadata": {},
   "outputs": [
    {
     "data": {
      "text/plain": "<Figure size 600x500 with 1 Axes>",
      "image/png": "[encoded data removed]"
     },
     "metadata": {},
     "output_type": "display_data"
    }
   ],
   "source": [
    "(df2/1000).plot(kind = \"barh\", stacked = True, figsize = (6,5), width = 0.75, legend = False,\n",
    "                       edgecolor = \"black\",\n",
    "                      linewidth = 0.5, \n",
    "                      color = [\"royalblue\", \"tomato\", \"gold\"])\n",
    "plt.xlabel(\"#Nodes [x1000]\")\n",
    "plt.ylabel(\"Accession\")\n",
    "plt.tight_layout()\n",
    "#plt.savefig(\"plots/ps.similarity_path.400.png\", dpi = 400)\n",
    "#plt.savefig(\"plots/ps.similarity_path.pdf\")\n"
   ]
  },
  {
   "cell_type": "code",
   "execution_count": 12,
   "id": "1e1e377d",
   "metadata": {},
   "outputs": [],
   "source": [
    "seq_soft = df.apply(lambda x: sum([x for x in x.iloc[seq_index:].values if not np.isnan(x)][1:-1]), axis = 1)\n",
    "seq_core = df.apply(lambda x: [x for x in x.iloc[seq_index:].values if not np.isnan(x)][-1], axis = 1)\n",
    "seq_priv = df.apply(lambda x: [x for x in x.iloc[seq_index:].values if not np.isnan(x)][0], axis = 1)"
   ]
  },
  {
   "cell_type": "code",
   "execution_count": 13,
   "id": "8cf0c171",
   "metadata": {},
   "outputs": [
    {
     "data": {
      "text/plain": "        0      1       2\n0  597805  90165   47050\n1  597805  87670   26389\n2  597805  89647   33119\n3  597805  16886  104349\n4  597805  74212   53334",
      "text/html": "<div>\n<style scoped>\n    .dataframe tbody tr th:only-of-type {\n        vertical-align: middle;\n    }\n\n    .dataframe tbody tr th {\n        vertical-align: top;\n    }\n\n    .dataframe thead th {\n        text-align: right;\n    }\n</style>\n<table border=\"1\" class=\"dataframe\">\n  <thead>\n    <tr style=\"text-align: right;\">\n      <th></th>\n      <th>0</th>\n      <th>1</th>\n      <th>2</th>\n    </tr>\n  </thead>\n  <tbody>\n    <tr>\n      <th>0</th>\n      <td>597805</td>\n      <td>90165</td>\n      <td>47050</td>\n    </tr>\n    <tr>\n      <th>1</th>\n      <td>597805</td>\n      <td>87670</td>\n      <td>26389</td>\n    </tr>\n    <tr>\n      <th>2</th>\n      <td>597805</td>\n      <td>89647</td>\n      <td>33119</td>\n    </tr>\n    <tr>\n      <th>3</th>\n      <td>597805</td>\n      <td>16886</td>\n      <td>104349</td>\n    </tr>\n    <tr>\n      <th>4</th>\n      <td>597805</td>\n      <td>74212</td>\n      <td>53334</td>\n    </tr>\n  </tbody>\n</table>\n</div>"
     },
     "execution_count": 13,
     "metadata": {},
     "output_type": "execute_result"
    }
   ],
   "source": [
    "df2 = pd.DataFrame([seq_core, seq_soft, seq_priv]).T\n",
    "df2.head()"
   ]
  },
  {
   "cell_type": "code",
   "execution_count": 14,
   "id": "4d0a474c",
   "metadata": {},
   "outputs": [
    {
     "data": {
      "text/plain": "       Core   Soft  Private\nABQ  597805  90165    47050\nBIH  597805  87670    26389\nABF  597805  89647    33119\nBPN  597805  16886   104349\nBCK  597805  74212    53334",
      "text/html": "<div>\n<style scoped>\n    .dataframe tbody tr th:only-of-type {\n        vertical-align: middle;\n    }\n\n    .dataframe tbody tr th {\n        vertical-align: top;\n    }\n\n    .dataframe thead th {\n        text-align: right;\n    }\n</style>\n<table border=\"1\" class=\"dataframe\">\n  <thead>\n    <tr style=\"text-align: right;\">\n      <th></th>\n      <th>Core</th>\n      <th>Soft</th>\n      <th>Private</th>\n    </tr>\n  </thead>\n  <tbody>\n    <tr>\n      <th>ABQ</th>\n      <td>597805</td>\n      <td>90165</td>\n      <td>47050</td>\n    </tr>\n    <tr>\n      <th>BIH</th>\n      <td>597805</td>\n      <td>87670</td>\n      <td>26389</td>\n    </tr>\n    <tr>\n      <th>ABF</th>\n      <td>597805</td>\n      <td>89647</td>\n      <td>33119</td>\n    </tr>\n    <tr>\n      <th>BPN</th>\n      <td>597805</td>\n      <td>16886</td>\n      <td>104349</td>\n    </tr>\n    <tr>\n      <th>BCK</th>\n      <td>597805</td>\n      <td>74212</td>\n      <td>53334</td>\n    </tr>\n  </tbody>\n</table>\n</div>"
     },
     "execution_count": 14,
     "metadata": {},
     "output_type": "execute_result"
    }
   ],
   "source": [
    "# Change index and column name\n",
    "df2.columns = [\"Core\", \"Soft\", \"Private\"]\n",
    "df2.index = [x.split(\"_\")[0] for x in df[\"Accession\"]]\n",
    "df2.head()"
   ]
  },
  {
   "cell_type": "code",
   "execution_count": 15,
   "id": "2dc13c49",
   "metadata": {},
   "outputs": [],
   "source": [
    "df2.index = [x.split(\"#\")[0] for x in df2.index]"
   ]
  },
  {
   "cell_type": "code",
   "execution_count": 19,
   "id": "f72f1a50",
   "metadata": {},
   "outputs": [
    {
     "data": {
      "text/plain": "<Figure size 600x500 with 1 Axes>",
      "image/png": "[encoded data removed]"
     },
     "metadata": {},
     "output_type": "display_data"
    }
   ],
   "source": [
    "(df2/1000).plot(kind = \"barh\", stacked = True, figsize = (6,5), width = 0.75, legend = False,\n",
    "                       edgecolor = \"black\",\n",
    "                      linewidth = 0.5, \n",
    "                      color = [\"royalblue\", \"tomato\", \"gold\"])\n",
    "plt.xlabel(\"Sequence [kbp]\")\n",
    "plt.ylabel(\"Accession\")\n",
    "plt.tight_layout()\n",
    "#plt.savefig(\"plots/ps.similarity_path.seq.pdf\")\n"
   ]
  },
  {
   "cell_type": "code",
   "execution_count": 17,
   "id": "d90cd614",
   "metadata": {},
   "outputs": [],
   "source": []
  },
  {
   "cell_type": "code",
   "execution_count": null,
   "id": "e7dc799f",
   "metadata": {},
   "outputs": [],
   "source": []
  }
 ],
 "metadata": {
  "kernelspec": {
   "display_name": "Python 3",
   "language": "python",
   "name": "python3"
  },
  "language_info": {
   "codemirror_mode": {
    "name": "ipython",
    "version": 3
   },
   "file_extension": ".py",
   "mimetype": "text/x-python",
   "name": "python",
   "nbconvert_exporter": "python",
   "pygments_lexer": "ipython3",
   "version": "3.7.3"
  }
 },
 "nbformat": 4,
 "nbformat_minor": 5
}
